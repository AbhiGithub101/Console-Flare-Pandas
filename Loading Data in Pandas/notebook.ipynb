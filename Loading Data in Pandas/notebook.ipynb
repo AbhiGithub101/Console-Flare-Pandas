{
 "cells": [
  {
   "cell_type": "markdown",
   "id": "d8d73aba",
   "metadata": {},
   "source": [
    "# Introduction To Pandas"
   ]
  },
  {
   "cell_type": "markdown",
   "id": "3e5bad49",
   "metadata": {},
   "source": [
    "## How to Load an Excel File \n",
    "\n",
    "Before Loading Excel File , do not forget to install openpyxl or xlrd (Excel Reader)"
   ]
  },
  {
   "cell_type": "code",
   "execution_count": 1,
   "id": "c38bd6de",
   "metadata": {},
   "outputs": [
    {
     "name": "stdout",
     "output_type": "stream",
     "text": [
      "   Order_ID     Product  Quantity  Price_per_Unit  Total_Sales  Sale_Date\n",
      "0    ORD001      Laptop         2             800         1600 2023-01-01\n",
      "1    ORD002      Mobile         1             500          500 2023-01-02\n",
      "2    ORD003      Tablet         3             300          900 2023-01-03\n",
      "3    ORD004  Headphones         1             100          100 2023-01-04\n",
      "4    ORD005     Charger         5              20          100 2023-01-05\n",
      "5    ORD006      Laptop         2             800         1600 2023-01-06\n",
      "6    ORD007      Tablet         1             300          300 2023-01-07\n",
      "7    ORD008      Mobile         3             500         1500 2023-01-08\n",
      "8    ORD009  Headphones         2             100          200 2023-01-09\n",
      "9    ORD010     Charger         4              20           80 2023-01-10\n",
      "10   ORD011      Laptop         1             800          800 2023-01-11\n",
      "11   ORD012      Mobile         3             500         1500 2023-01-12\n",
      "12   ORD013      Tablet         2             300          600 2023-01-13\n",
      "13   ORD014  Headphones         1             100          100 2023-01-14\n",
      "14   ORD015     Charger         5              20          100 2023-01-15\n"
     ]
    }
   ],
   "source": [
    "import pandas as pd \n",
    "\n",
    "data = pd.read_excel('sales_data.xlsx')\n",
    "\n",
    "print(data)"
   ]
  },
  {
   "cell_type": "markdown",
   "id": "d26e83dc",
   "metadata": {},
   "source": [
    "# How to load Excel File with Multiple Sheets"
   ]
  },
  {
   "cell_type": "code",
   "execution_count": 3,
   "id": "5f0aa82c",
   "metadata": {},
   "outputs": [
    {
     "name": "stdout",
     "output_type": "stream",
     "text": [
      "  customer    product\n",
      "0      raj     iphone\n",
      "1   suresh    samsung\n",
      "2   himesh  motorolla\n"
     ]
    }
   ],
   "source": [
    "import pandas as pd \n",
    "\n",
    "data = pd.read_excel(\"multiple sheet.xlsx\",sheet_name='Sheet2')\n",
    "\n",
    "print(data)"
   ]
  },
  {
   "cell_type": "markdown",
   "id": "e55d4ee2",
   "metadata": {},
   "source": [
    "# How to load an csv File"
   ]
  },
  {
   "cell_type": "code",
   "execution_count": 2,
   "id": "a41cfec1",
   "metadata": {},
   "outputs": [
    {
     "name": "stdout",
     "output_type": "stream",
     "text": [
      "   Order_ID     Product  Quantity  Price_per_Unit  Total_Sales  Sale_Date\n",
      "0    ORD001      Laptop         2             800      1600.00   1/1/2023\n",
      "1    ORD002      Mobile         1             500       500.56   1/2/2023\n",
      "2    ORD003      Tablet         3             300       900.00   1/3/2023\n",
      "3    ORD004  Headphones         1             100       100.00   1/4/2023\n",
      "4    ORD005     Charger         5              20       100.00   1/5/2023\n",
      "5    ORD006      Laptop         2             800      1600.00   1/6/2023\n",
      "6    ORD007      Tablet         1             300       300.00   1/7/2023\n",
      "7    ORD008      Mobile         3             500      1500.00   1/8/2023\n",
      "8    ORD009  Headphones         2             100       200.00   1/9/2023\n",
      "9    ORD010     Charger         4              20        80.00  1/10/2023\n",
      "10   ORD011      Laptop         1             800       800.00  1/11/2023\n",
      "11   ORD012      Mobile         3             500      1500.00  1/12/2023\n",
      "12   ORD013      Tablet         2             300       600.00  1/13/2023\n",
      "13   ORD014  Headphones         1             100       100.00  1/14/2023\n",
      "14   ORD015     Charger         5              20       100.00  1/15/2023\n"
     ]
    }
   ],
   "source": [
    "import pandas as pd \n",
    "\n",
    "data = pd.read_csv('sales_data.csv')\n",
    "\n",
    "print(data)"
   ]
  },
  {
   "cell_type": "markdown",
   "id": "45fc8931",
   "metadata": {},
   "source": []
  },
  {
   "cell_type": "markdown",
   "id": "cb441ef8",
   "metadata": {},
   "source": [
    "# How to Load a json file"
   ]
  },
  {
   "cell_type": "code",
   "execution_count": 4,
   "id": "03d8b2ce",
   "metadata": {},
   "outputs": [
    {
     "name": "stdout",
     "output_type": "stream",
     "text": [
      "  Employee_ID  Employee_Name Department  Sales_Amount  Sales_Target  \\\n",
      "0      EMP001       John Doe      Sales         10000         12000   \n",
      "1      EMP002     Jane Smith  Marketing         15000         14000   \n",
      "2      EMP003     Sam Wilson         IT          7000          8000   \n",
      "3      EMP004   Linda Taylor    Finance         12000         10000   \n",
      "4      EMP005  Michael Brown      Sales         11000         13000   \n",
      "\n",
      "   Achieved_Target  \n",
      "0            False  \n",
      "1             True  \n",
      "2            False  \n",
      "3             True  \n",
      "4            False  \n"
     ]
    }
   ],
   "source": [
    "import pandas as pd \n",
    "\n",
    "data = pd.read_json('Employee_data.json')\n",
    "\n",
    "print(data)"
   ]
  },
  {
   "cell_type": "markdown",
   "id": "844adee0",
   "metadata": {},
   "source": [
    "# How to Load an xml file"
   ]
  },
  {
   "cell_type": "code",
   "execution_count": 5,
   "id": "c3bb2253",
   "metadata": {},
   "outputs": [
    {
     "name": "stdout",
     "output_type": "stream",
     "text": [
      "   id          name  age         city\n",
      "0   1      John Doe   28     New York\n",
      "1   2    Jane Smith   34  Los Angeles\n",
      "2   3  Mike Johnson   45      Chicago\n"
     ]
    }
   ],
   "source": [
    "import pandas as pd \n",
    "\n",
    "data = pd.read_xml('employee_data.xml')\n",
    "\n",
    "print(data)"
   ]
  },
  {
   "cell_type": "markdown",
   "id": "861d5801",
   "metadata": {},
   "source": []
  }
 ],
 "metadata": {
  "kernelspec": {
   "display_name": "Python 3",
   "language": "python",
   "name": "python3"
  },
  "language_info": {
   "codemirror_mode": {
    "name": "ipython",
    "version": 3
   },
   "file_extension": ".py",
   "mimetype": "text/x-python",
   "name": "python",
   "nbconvert_exporter": "python",
   "pygments_lexer": "ipython3",
   "version": "3.12.5"
  }
 },
 "nbformat": 4,
 "nbformat_minor": 5
}
